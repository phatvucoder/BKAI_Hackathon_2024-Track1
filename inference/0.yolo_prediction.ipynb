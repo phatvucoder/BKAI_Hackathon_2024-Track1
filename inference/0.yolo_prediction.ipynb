{
 "cells": [
  {
   "cell_type": "code",
   "execution_count": null,
   "metadata": {},
   "outputs": [],
   "source": [
    "%pip install ultralytics"
   ]
  },
  {
   "cell_type": "code",
   "execution_count": null,
   "metadata": {},
   "outputs": [],
   "source": [
    "import ultralytics\n",
    "ultralytics.checks()"
   ]
  },
  {
   "cell_type": "markdown",
   "metadata": {},
   "source": [
    "# Prediction on single image"
   ]
  },
  {
   "cell_type": "code",
   "execution_count": null,
   "metadata": {},
   "outputs": [],
   "source": [
    "# more configuration\n",
    "import torch\n",
    "conf = 0.3\n",
    "device = 'mps' if torch.backends.mps.is_available() else 'cpu'"
   ]
  },
  {
   "cell_type": "code",
   "execution_count": null,
   "metadata": {},
   "outputs": [],
   "source": [
    "model_path = '../models/pretrained/yolo11m.pt'\n",
    "image_path = '/Users/phatvu/Library/CloudStorage/GoogleDrive-phatvu.coder@gmail.com/My Drive/Dev-Drive/Competitions/Competitions-2024/M10-BKAI-Object_Detection/BKAI_Hackathon_2024-Track1/data/raw/public test/cam_08_00500_jpg.rf.5ab59b5bcda1d1fad9131385c5d64fdb.jpg'\n",
    "\n",
    "# Load model\n",
    "from ultralytics import YOLO\n",
    "import cv2\n",
    "import matplotlib.pyplot as plt\n",
    "model = YOLO(model_path)\n",
    "\n",
    "# Load image and run detection\n",
    "image = cv2.imread(image_path)\n",
    "results = model(image, conf=conf, device=device)\n",
    "\n",
    "# Plot results\n",
    "annotated_image = results[0].plot()\n",
    "annotated_image = cv2.cvtColor(annotated_image, cv2.COLOR_BGR2RGB)\n",
    "plt.imshow(annotated_image)\n",
    "plt.axis('off')  # Hide axis\n",
    "plt.show()"
   ]
  },
  {
   "cell_type": "markdown",
   "metadata": {},
   "source": [
    "# Prediction on folder"
   ]
  },
  {
   "cell_type": "code",
   "execution_count": null,
   "metadata": {},
   "outputs": [],
   "source": [
    "# more configuration\n",
    "import torch\n",
    "conf = 0.3\n",
    "device = 'mps' if torch.backends.mps.is_available() else 'cpu'"
   ]
  },
  {
   "cell_type": "code",
   "execution_count": null,
   "metadata": {},
   "outputs": [],
   "source": [
    "folder_path = \"../data/raw/public test\"\n",
    "model_path = '../models/base/night_m/night_m.pt'\n",
    "\n",
    "from ultralytics import YOLO\n",
    "import cv2\n",
    "import glob\n",
    "import os\n",
    "import matplotlib.pyplot as plt\n",
    "\n",
    "list_img = glob.glob(os.path.join(folder_path, \"*.jpg\"))\n",
    "\n",
    "for img_path in list_img:\n",
    "    # Load YOLO model and image\n",
    "    model = YOLO(model_path)\n",
    "    image = cv2.imread(img_path)\n",
    "\n",
    "    # Run inference and show results\n",
    "    results = model(image, conf=conf, device=device)\n",
    "    \n",
    "    # Plot results\n",
    "    annotated_image = results[0].plot()\n",
    "    annotated_image = cv2.cvtColor(annotated_image, cv2.COLOR_BGR2RGB)\n",
    "    plt.imshow(annotated_image)\n",
    "    plt.axis('off')  # Hide axis\n",
    "    plt.show()"
   ]
  },
  {
   "cell_type": "markdown",
   "metadata": {},
   "source": [
    "# Draw Bbox on Image"
   ]
  },
  {
   "cell_type": "code",
   "execution_count": null,
   "metadata": {},
   "outputs": [],
   "source": [
    "# visualize boundingbox on image\n",
    "import cv2\n",
    "import matplotlib.pyplot as plt\n",
    "import glob\n",
    "import os\n",
    "\n",
    "# folder_path = \"../data/raw/train_20241023/daytime\"\n",
    "image_path = 'output/'\n",
    "label_path = 'output/'\n",
    "\n",
    "list_img = sorted(glob.glob(os.path.join(image_path, \"cam_06*.jpg\")))\n",
    "list_label = sorted(glob.glob(os.path.join(label_path, \"cam_06*.txt\")))\n",
    "\n",
    "for img_path, label_path in zip(list_img, list_label):\n",
    "    # Load image\n",
    "    image = cv2.imread(img_path)\n",
    "    height, width, _ = image.shape\n",
    "    \n",
    "    # Load label\n",
    "    with open(label_path, 'r') as f:\n",
    "        lines = f.readlines()\n",
    "    labels = [line.strip().split() for line in lines]\n",
    "    \n",
    "    # Convert YOLO format to bounding box coordinates\n",
    "    for label in labels:\n",
    "        class_id, x_center, y_center, bbox_width, bbox_height = map(float, label)\n",
    "        x_center *= width\n",
    "        y_center *= height\n",
    "        bbox_width *= width\n",
    "        bbox_height *= height\n",
    "        \n",
    "        x_min = int(x_center - bbox_width / 2)\n",
    "        y_min = int(y_center - bbox_height / 2)\n",
    "        x_max = int(x_center + bbox_width / 2)\n",
    "        y_max = int(y_center + bbox_height / 2)\n",
    "        \n",
    "        # Draw bounding boxes\n",
    "        cv2.rectangle(image, (x_min, y_min), (x_max, y_max), (0, 255, 0), 2)\n",
    "    \n",
    "    # Show image\n",
    "    image = cv2.cvtColor(image, cv2.COLOR_BGR2RGB)\n",
    "    plt.imshow(image)\n",
    "    plt.axis('off')  # Hide axis\n",
    "    plt.show()"
   ]
  }
 ],
 "metadata": {
  "kernelspec": {
   "display_name": "base",
   "language": "python",
   "name": "python3"
  },
  "language_info": {
   "codemirror_mode": {
    "name": "ipython",
    "version": 3
   },
   "file_extension": ".py",
   "mimetype": "text/x-python",
   "name": "python",
   "nbconvert_exporter": "python",
   "pygments_lexer": "ipython3",
   "version": "3.11.8"
  }
 },
 "nbformat": 4,
 "nbformat_minor": 2
}
