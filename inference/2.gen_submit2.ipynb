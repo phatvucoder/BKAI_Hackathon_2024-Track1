{
 "cells": [
  {
   "cell_type": "code",
   "execution_count": 1,
   "metadata": {},
   "outputs": [],
   "source": [
    "!rm -rf predict.txt predict.zip"
   ]
  },
  {
   "cell_type": "code",
   "execution_count": null,
   "metadata": {},
   "outputs": [],
   "source": [
    "import cv2\n",
    "import numpy as np\n",
    "\n",
    "class DayNightClassifier:\n",
    "    def __init__(self,\n",
    "                 night_intensity_ratio_threshold: float = 0.55,\n",
    "                 brightness_threshold: int = 95):\n",
    "\n",
    "        self.brightness_threshold = brightness_threshold\n",
    "        self.night_intensity_ratio_threshold = night_intensity_ratio_threshold\n",
    "\n",
    "    @staticmethod\n",
    "    def enhance_contrast(image):\n",
    "        clahe = cv2.createCLAHE(clipLimit=2.15, tileGridSize=(8, 8))\n",
    "        enhanced_image = clahe.apply(image)\n",
    "        return enhanced_image\n",
    "\n",
    "    def calculate_histogram_and_brightness(self, image_path):\n",
    "        # Đọc hình ảnh và chuyển sang grayscale\n",
    "        image = cv2.imread(image_path, cv2.IMREAD_GRAYSCALE)\n",
    "        if image is None:\n",
    "            return None, None\n",
    "\n",
    "        # Tăng cường độ tương phản\n",
    "        image = self.enhance_contrast(image)\n",
    "\n",
    "        # Tính toán histogram\n",
    "        hist = cv2.calcHist([image], [0], None, [256], [0, 256])\n",
    "        hist = hist / hist.sum()\n",
    "\n",
    "        # Tính độ sáng trung bình\n",
    "        avg_brightness = np.mean(image)\n",
    "\n",
    "        # Tính tỷ lệ pixel tối\n",
    "        dark_pixel_ratio = hist[:self.brightness_threshold].sum()\n",
    "\n",
    "        return dark_pixel_ratio, avg_brightness\n",
    "\n",
    "    def isDay(self, image_path):\n",
    "        dark_pixel_ratio, avg_brightness = self.calculate_histogram_and_brightness(image_path)\n",
    "\n",
    "        if dark_pixel_ratio is None or avg_brightness is None:\n",
    "            return None\n",
    "\n",
    "        # Phân loại dựa trên tỷ lệ pixel tối\n",
    "        if dark_pixel_ratio > self.night_intensity_ratio_threshold:\n",
    "            return False  # Đêm\n",
    "\n",
    "        # Phân loại dựa trên độ sáng trung bình\n",
    "        return avg_brightness > self.brightness_threshold  # Ngày nếu độ sáng cao hơn ngưỡng\n",
    "\n",
    "# Sử dụng method isDay để kiểm tra\n",
    "classifier = DayNightClassifier(night_intensity_ratio_threshold=0.54, brightness_threshold=93)"
   ]
  },
  {
   "cell_type": "code",
   "execution_count": 1,
   "metadata": {},
   "outputs": [],
   "source": [
    "import torch\n",
    "device = torch.device(\"cuda\" if torch.cuda.is_available() else \"mps\" if torch.backends.mps.is_available() else \"cpu\")"
   ]
  },
  {
   "cell_type": "code",
   "execution_count": null,
   "metadata": {},
   "outputs": [
    {
     "name": "stdout",
     "output_type": "stream",
     "text": [
      "\n",
      "0: 384x640 5 motorbikes, 1 car, 1 truck, 17.3ms\n",
      "Speed: 1.7ms preprocess, 17.3ms inference, 5.1ms postprocess per image at shape (1, 3, 384, 640)\n"
     ]
    },
    {
     "name": "stderr",
     "output_type": "stream",
     "text": [
      "100%|██████████| 2060/2060 [03:13<00:00, 10.66it/s]\n"
     ]
    }
   ],
   "source": [
    "from IPython.display import clear_output\n",
    "from tqdm import tqdm\n",
    "import os\n",
    "import glob\n",
    "from ultralytics import YOLO\n",
    "\n",
    "# Đọc danh sách tệp ảnh\n",
    "public_test = glob.glob(\"../data/raw/public test/*.jpg\")\n",
    "batch_size = 64  # Đặt số lượng ảnh trong mỗi batch, điều chỉnh sao cho phù hợp với RAM của bạn\n",
    "\n",
    "model_day = YOLO('../models/base/day/day.pt', verbose=False)\n",
    "model_night = YOLO('../models/base/night/night.pt', verbose=False)\n",
    "\n",
    "# Hàm chuyển đổi tọa độ từ xyxy sang xywh\n",
    "def xyxy_to_xywh(xyxy, img_width, img_height):\n",
    "    xmin, ymin, xmax, ymax = xyxy\n",
    "    x_center = (xmin + xmax) / 2 / img_width\n",
    "    y_center = (ymin + ymax) / 2 / img_height\n",
    "    width = (xmax - xmin) / img_width\n",
    "    height = (ymax - ymin) / img_height\n",
    "    return x_center, y_center, width, height\n",
    "\n",
    "# Xử lý theo batch và ghi kết quả\n",
    "with open(\"predict.txt\", \"w\") as f:\n",
    "    for i in tqdm(range(0, len(public_test), batch_size)):\n",
    "        clear_output()\n",
    "        batch_files = public_test[i:i + batch_size]\n",
    "        results = []  # Danh sách để lưu trữ kết quả từ cả hai mô hình\n",
    "        # Phân loại ngày/đêm và dự đoán với mô hình tương ứng\n",
    "        for img_path in batch_files:\n",
    "            if classifier.isDay(img_path):\n",
    "                # print(img_path)\n",
    "                # print(\"day\")\n",
    "                results.extend(model_day([img_path])) # Dự đoán với model1 cho ban ngày\n",
    "            else:\n",
    "                # print(img_path)\n",
    "                # print(\"night\")\n",
    "                results.extend(model_night([img_path]))  # Dự đoán với model2 cho ban đêm\n",
    "        # from IPython.display import clear_output\n",
    "        # clear_output()\n",
    "\n",
    "        for result in results:\n",
    "            img_path = result.path\n",
    "            img_name = os.path.basename(img_path)\n",
    "            img_width, img_height = result.orig_img.shape[1], result.orig_img.shape[0]\n",
    "\n",
    "            for box in result.boxes:\n",
    "                xyxy = box.xyxy[0].cpu().numpy()\n",
    "                class_id = int(box.cls[0].item())\n",
    "                confidence = box.conf[0].item()\n",
    "                x_center, y_center, width, height = xyxy_to_xywh(xyxy, img_width, img_height)\n",
    "\n",
    "                # Ghi kết quả vào tệp\n",
    "                # f.write(f\"{img_name} {class_id} {x_center:.6f} {y_center:.6f} {width:.6f} {height:.6f} {confidence:.6f}\\n\")\n",
    "                f.write(f\"{img_name} {class_id} {x_center} {y_center} {width} {height}\\n\")"
   ]
  },
  {
   "cell_type": "code",
   "execution_count": 3,
   "metadata": {},
   "outputs": [
    {
     "name": "stdout",
     "output_type": "stream",
     "text": [
      "  adding: predict.txt (deflated 74%)\n"
     ]
    }
   ],
   "source": [
    "!zip -r predict.zip predict.txt"
   ]
  }
 ],
 "metadata": {
  "kernelspec": {
   "display_name": "base",
   "language": "python",
   "name": "python3"
  },
  "language_info": {
   "codemirror_mode": {
    "name": "ipython",
    "version": 3
   },
   "file_extension": ".py",
   "mimetype": "text/x-python",
   "name": "python",
   "nbconvert_exporter": "python",
   "pygments_lexer": "ipython3",
   "version": "3.11.8"
  }
 },
 "nbformat": 4,
 "nbformat_minor": 2
}
