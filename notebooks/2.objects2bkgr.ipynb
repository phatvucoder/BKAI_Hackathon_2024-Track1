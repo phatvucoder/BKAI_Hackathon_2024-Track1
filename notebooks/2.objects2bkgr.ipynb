{
 "cells": [
  {
   "cell_type": "code",
   "execution_count": null,
   "metadata": {},
   "outputs": [],
   "source": [
    "img_folder = '../data/raw/train_20241023/daytime'\n",
    "bkgr_folder = '../data/processed/bkgr'\n",
    "bkgr_prefix = 'background_'\n",
    "output_folder = '../data/processed/obj_bkgr/daytime'\n",
    "\n",
    "# img_folder = '../data/raw/train_20241023/nighttime'\n",
    "# bkgr_folder = '../data/processed/bkgr'\n",
    "# bkgr_prefix = 'background_'\n",
    "# output_folder = '../data/processed/obj_bkgr/nighttime'"
   ]
  },
  {
   "cell_type": "code",
   "execution_count": null,
   "metadata": {},
   "outputs": [
    {
     "name": "stderr",
     "output_type": "stream",
     "text": [
      "Processing Images: 100%|██████████| 4629/4629 [00:32<00:00, 143.67it/s]\n"
     ]
    }
   ],
   "source": [
    "import glob\n",
    "import cv2\n",
    "import os\n",
    "from tqdm import tqdm\n",
    "import shutil\n",
    "\n",
    "# Lấy danh sách ảnh và background\n",
    "img_paths = glob.glob(os.path.join(img_folder, '*.jpg'))\n",
    "bkgr_paths = {f\"{bkgr_prefix}{str(i).zfill(2)}.jpg\": cv2.imread(f\"{bkgr_folder}/{bkgr_prefix}{str(i).zfill(2)}.jpg\") for i in range(1, 11)}\n",
    "\n",
    "# Tạo folder output nếu chưa tồn tại\n",
    "os.makedirs(output_folder, exist_ok=True)\n",
    "\n",
    "# Duyệt qua từng ảnh trong img_paths\n",
    "for img_path in tqdm(img_paths, desc=\"Processing Images\"):\n",
    "    # Lấy tên ảnh và đọc file label\n",
    "    img_name = os.path.basename(img_path)\n",
    "    label_path = img_path.replace('.jpg', '.txt')\n",
    "    img = cv2.imread(img_path)\n",
    "    \n",
    "    # Kiểm tra nếu label tồn tại và ảnh được load\n",
    "    if not os.path.exists(label_path) or img is None:\n",
    "        continue\n",
    "\n",
    "    # Đọc nội dung file label\n",
    "    with open(label_path, 'r') as f:\n",
    "        labels = []\n",
    "        for line in f:\n",
    "            class_id, x_center, y_center, width, height = map(float, line.strip().split())\n",
    "            labels.append((class_id, x_center, y_center, width, height))\n",
    "    \n",
    "    # Sắp xếp labels theo y_center để vẽ từ trên xuống dưới\n",
    "    labels.sort(key=lambda x: x[2])  # y_center là phần tử thứ 2\n",
    "\n",
    "    # Lấy background tương ứng\n",
    "    cam_id = img_name.split('_')[1].zfill(2)  # lấy XX từ cam_XX_YYYYY.jpg\n",
    "    bkgr_name = f\"{bkgr_prefix}{cam_id}.jpg\"\n",
    "    bkgr_img = bkgr_paths.get(bkgr_name, None)\n",
    "    \n",
    "    # Nếu không có background tương ứng, bỏ qua ảnh này\n",
    "    if bkgr_img is None:\n",
    "        continue\n",
    "\n",
    "    # Tạo một bản sao của background để vẽ\n",
    "    output_img = bkgr_img.copy()\n",
    "    h, w = img.shape[:2]\n",
    "\n",
    "    # Vẽ từng object lên background\n",
    "    for class_id, x_center, y_center, width, height in labels:\n",
    "        # Tính toạ độ trên ảnh\n",
    "        x = int((x_center - width / 2) * w)\n",
    "        y = int((y_center - height / 2) * h)\n",
    "        w_box = int(width * w)\n",
    "        h_box = int(height * h)\n",
    "\n",
    "        # Cắt object từ ảnh gốc và vẽ lên background\n",
    "        object_img = img[y:y+h_box, x:x+w_box]\n",
    "        output_img[y:y+h_box, x:x+w_box] = object_img\n",
    "\n",
    "    # Lưu ảnh đã vẽ vào folder output\n",
    "    output_path = os.path.join(output_folder, img_name)\n",
    "    cv2.imwrite(output_path, output_img)\n",
    "    shutil.copy(label_path, output_path.replace('.jpg', '.txt'))"
   ]
  }
 ],
 "metadata": {
  "kernelspec": {
   "display_name": "base",
   "language": "python",
   "name": "python3"
  },
  "language_info": {
   "codemirror_mode": {
    "name": "ipython",
    "version": 3
   },
   "file_extension": ".py",
   "mimetype": "text/x-python",
   "name": "python",
   "nbconvert_exporter": "python",
   "pygments_lexer": "ipython3",
   "version": "3.11.8"
  }
 },
 "nbformat": 4,
 "nbformat_minor": 2
}
